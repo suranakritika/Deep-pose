{
 "cells": [
  {
   "cell_type": "code",
   "execution_count": null,
   "metadata": {},
   "outputs": [],
   "source": [
    "import numpy as np\n",
    "import pandas as pd\n",
    "import cv2\n",
    "import random\n",
    "import matplotlib.image as mpimg\n",
    "import tensorflow as tf\n",
    "from sklearn.utils import shuffle\n",
    "import matplotlib.pyplot as plt\n",
    "%matplotlib inline"
   ]
  },
  {
   "cell_type": "code",
   "execution_count": null,
   "metadata": {},
   "outputs": [],
   "source": [
    "def model(joints):\n",
    "    conv1_W = tf.Variable(tf.truncated_normal(shape=(11, 11, 3, 96)))\n",
    "    conv1_b = tf.Variable(tf.zeros(96))\n",
    "    conv1   = tf.nn.conv2d(joints, conv1_W, strides=[4, 4, 4, 4], padding='VALID') + conv1_b\n",
    "    conv1 = tf.nn.relu(conv1)\n",
    "    conv1 = tf.nn.local_response_normalization(conv1)\n",
    "    conv1 = tf.nn.max_pool(conv1, ksize=[3, 2, 2, 3], strides=[3, 2, 2, 3], padding='VALID')\n",
    "    \n",
    "    conv2_W = tf.Variable(tf.truncated_normal(shape=(5, 5, 96, 256)))\n",
    "    conv2_b = tf.Variable(tf.zeros(256))\n",
    "    conv2   = tf.nn.conv2d(joints, conv2_W, strides=[1, 1, 1, 1], padding='VALID') + conv2_b\n",
    "    conv2 = tf.nn.relu(conv2)\n",
    "    conv2 = tf.nn.local_response_normalization(conv2)\n",
    "    conv2 = tf.nn.max_pool(conv2, ksize=[3, 2, 2, 3], strides=[3, 2, 2, 3], padding='VALID')\n",
    "    \n",
    "    conv3_W = tf.Variable(tf.truncated_normal(shape=(3, 3, 256, 384)))\n",
    "    conv3_b = tf.Variable(tf.zeros(384))\n",
    "    conv3   = tf.nn.conv2d(joints, conv3_W, strides=[1, 1, 1, 1], padding='VALID') + conv3_b\n",
    "    conv3 = tf.nn.relu(conv3)\n",
    "    \n",
    "    conv4_W = tf.Variable(tf.truncated_normal(shape=(3, 3, 384, 384)))\n",
    "    conv4_b = tf.Variable(tf.zeros(384))\n",
    "    conv4   = tf.nn.conv2d(joints, conv4_W, strides=[1, 1, 1, 1], padding='VALID') + conv4_b\n",
    "    conv4 = tf.nn.relu(conv4)\n",
    "    \n",
    "    conv5_W = tf.Variable(tf.truncated_normal(shape=(3, 3, 384, 256)))\n",
    "    conv5_b = tf.Variable(tf.zeros(256))\n",
    "    conv5   = tf.nn.conv2d(joints, conv5_W, strides=[1, 1, 1, 1], padding='VALID') + conv5_b\n",
    "    conv5 = tf.nn.max_pool(conv5, ksize=[3, 2, 2, 3], strides=[3, 2, 2, 3], padding='VALID')\n",
    "    conv5 = tf.nn.relu(conv5)\n",
    "    conv5 = tf.nn.max_pool(conv5, ksize=[3, 2, 2, 3], strides=[3, 2, 2, 3], padding='VALID')\n",
    "    \n",
    "    conv5_inputs = int(np.prod(conv5.shape()[1:]))\n",
    "    fc6_W = tf.Variable(tf.truncated_normal(shape=(conv5_inputs, 4096)))\n",
    "    fc6_b = tf.Variable(tf.zeros(4096))\n",
    "    fc6 = tf.matmul(joints, fc6_W) + fc6_b\n",
    "    fc6 = tf.nn.relu(fc6)\n",
    "    fc6 = tf.nn.dropout(fc6, 0.6)\n",
    "    \n",
    "    fc6_inputs = int(fc6.shape()[1])\n",
    "    fc7_W = tf.Variable(tf.truncated_normal(shape=(fc6_inputs, 4096)))\n",
    "    fc7_b = tf.Variable(tf.zeros(4096))\n",
    "    fc7 = tf.matmul(fc6, fc7_W) + fc6_b\n",
    "    fc7 = tf.nn.relu(fc7)\n",
    "    fc7 = tf.nn.dropout(fc7, 0.6)\n",
    "    \n",
    "    fc7_inputs = int(np.prod(fc7.shape()[1]))\n",
    "    fc8_W = tf.Variable(tf.truncated_normal(shape=(fc8_inputs, 14)))\n",
    "    fc8_b = tf.Variable(tf.zeros(14))\n",
    "    fc8 = tf.matmul(joints, fc8_W) + fc8_b\n",
    "    \n",
    "    return fc8"
   ]
  },
  {
   "cell_type": "code",
   "execution_count": null,
   "metadata": {},
   "outputs": [],
   "source": [
    "joints = 0\n",
    "# joints preprocessing still left"
   ]
  },
  {
   "cell_type": "code",
   "execution_count": null,
   "metadata": {},
   "outputs": [],
   "source": [
    "Epoch = 100\n",
    "rate = 0.0005\n",
    "logits = model(joints)\n",
    "cross_entropy = tf.nn.softmax_cross_entropy_with_logits(labels=one_hot_y, logits=logits)\n",
    "loss_operation = tf.reduce_mean(cross_entropy)\n",
    "optimizer = tf.train.AdamOptimizer(learning_rate = rate)\n",
    "training_operation = optimizer.minimize(loss_operation)"
   ]
  },
  {
   "cell_type": "code",
   "execution_count": null,
   "metadata": {},
   "outputs": [],
   "source": []
  }
 ],
 "metadata": {
  "kernelspec": {
   "display_name": "Python 3",
   "language": "python",
   "name": "python3"
  },
  "language_info": {
   "codemirror_mode": {
    "name": "ipython",
    "version": 3
   },
   "file_extension": ".py",
   "mimetype": "text/x-python",
   "name": "python",
   "nbconvert_exporter": "python",
   "pygments_lexer": "ipython3",
   "version": "3.6.7"
  }
 },
 "nbformat": 4,
 "nbformat_minor": 4
}
