{
 "cells": [
  {
   "cell_type": "code",
   "execution_count": 59,
   "metadata": {},
   "outputs": [],
   "source": [
    "import scipy.io as sc\n",
    "import numpy as np\n",
    "import glob\n",
    "from os.path import basename as b\n",
    "import re"
   ]
  },
  {
   "cell_type": "code",
   "execution_count": 60,
   "metadata": {},
   "outputs": [],
   "source": [
    "joints = sc.loadmat(\"LSP_Dataset/joints.mat\")"
   ]
  },
  {
   "cell_type": "code",
   "execution_count": 61,
   "metadata": {},
   "outputs": [],
   "source": [
    "joints = joints['joints'].transpose(2,0,1)\n",
    "joints = joints[:, :, :2]"
   ]
  },
  {
   "cell_type": "code",
   "execution_count": 62,
   "metadata": {},
   "outputs": [],
   "source": [
    "N_test = int(len(joints)*0.1)\n",
    "perm = np.random.permutation(int(len(joints)))[:N_test].tolist()"
   ]
  },
  {
   "cell_type": "code",
   "execution_count": 66,
   "metadata": {},
   "outputs": [],
   "source": [
    "fp_train = open('train_joints.csv', 'w')\n",
    "fp_test = open('test_joints.csv', 'w')\n",
    "for img_fn in sorted(glob.glob('LSP_Dataset/images/*.jpg')):\n",
    "    index = int(re.search('im([0-9]+)', b(img_fn)).groups()[0]) - 1\n",
    "    str_j = [str(j) if j > 0 else '-1'\n",
    "             for j in joints[index].flatten().tolist()]\n",
    "\n",
    "    out_list = [b(img_fn)]\n",
    "    out_list.extend(str_j)\n",
    "    out_str = ','.join(out_list)\n",
    "\n",
    "    if index in perm:\n",
    "        print(out_str, file=fp_test)\n",
    "    else:\n",
    "        print(out_str, file=fp_train)\n",
    "fp_train.close()\n",
    "fp_test.close()"
   ]
  },
  {
   "cell_type": "code",
   "execution_count": null,
   "metadata": {},
   "outputs": [],
   "source": []
  }
 ],
 "metadata": {
  "kernelspec": {
   "display_name": "Python 3",
   "language": "python",
   "name": "python3"
  },
  "language_info": {
   "codemirror_mode": {
    "name": "ipython",
    "version": 3
   },
   "file_extension": ".py",
   "mimetype": "text/x-python",
   "name": "python",
   "nbconvert_exporter": "python",
   "pygments_lexer": "ipython3",
   "version": "3.6.7"
  }
 },
 "nbformat": 4,
 "nbformat_minor": 4
}
